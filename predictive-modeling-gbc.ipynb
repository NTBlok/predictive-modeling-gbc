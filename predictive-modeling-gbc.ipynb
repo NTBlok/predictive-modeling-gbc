{
 "cells": [
  {
   "cell_type": "markdown",
   "metadata": {},
   "source": [
    "# Predicting HealthCare Claim Denial Reasons"
   ]
  },
  {
   "cell_type": "markdown",
   "metadata": {},
   "source": [
    "Nicole T Blok, PhD"
   ]
  },
  {
   "cell_type": "code",
   "execution_count": 371,
   "metadata": {
    "collapsed": false
   },
   "outputs": [],
   "source": [
    "import pandas as pd\n",
    "import numpy as np\n",
    "import sklearn\n",
    "from sklearn import preprocessing\n",
    "from sklearn import cross_validation\n",
    "from sklearn import ensemble\n",
    "from sklearn.ensemble import GradientBoostingClassifier\n",
    "from sklearn import metrics\n",
    "import seaborn as sns\n",
    "import matplotlib.pyplot as plt\n",
    "%matplotlib inline"
   ]
  },
  {
   "cell_type": "code",
   "execution_count": 115,
   "metadata": {
    "collapsed": false
   },
   "outputs": [],
   "source": [
    "df = pd.read_csv('../data/claim.sample.csv',low_memory=False)"
   ]
  },
  {
   "cell_type": "markdown",
   "metadata": {},
   "source": [
    "Given:  \"We are interested in ... claims that would be denied with the following Denial.Reason.Code: F13, J8G, JO5, JB8, JE1, JC9, JF1, JF9, JG1, JPA and JES.\"\n",
    "\n",
    "Assumptions:  \n",
    "(1) The sample healthcare claims data represents a snapshot of claims at various stages during claims processing.\n",
    "(2) Claims can be denied at any time during processing when appropriate conditions are met.\n",
    "(3) When the denial reason code is missing, the claim is currently not denied.\n",
    "(4) This is a multi-classification problem:\n",
    "    0 = Claim is currently not denied,\n",
    "    1 = Claim is currently denied for a target reason,\n",
    "    2 = Claim is currenlty denied for other reasons"
   ]
  },
  {
   "cell_type": "code",
   "execution_count": 116,
   "metadata": {
    "collapsed": false
   },
   "outputs": [
    {
     "name": "stdout",
     "output_type": "stream",
     "text": [
      "['F13', 'J8G', 'JO5', 'JB8', 'JE1', 'JC9', 'JF1', 'JF9', 'JG1', 'JPA', 'JES']\n"
     ]
    }
   ],
   "source": [
    "target_denialReasonCode = 'F13, J8G, JO5, JB8, JE1, JC9, JF1, JF9, JG1, JPA, JES'\n",
    "target_denialReasonCode = target_denialReasonCode.split(',')\n",
    "target_denialReasonCode = [cd.strip() for cd in target_denialReasonCode]\n",
    "print target_denialReasonCode\n",
    "\n",
    "#The possible Denial.Reason.Code values: missing, target_denialReasonCode and other non-missing\n",
    "def tag_target(code):\n",
    "    if code.strip() == '':\n",
    "        return 0\n",
    "    elif code in target_denialReasonCode:\n",
    "        return 1\n",
    "    else: \n",
    "        return 2"
   ]
  },
  {
   "cell_type": "markdown",
   "metadata": {},
   "source": [
    "# Pre-Processing"
   ]
  },
  {
   "cell_type": "code",
   "execution_count": 117,
   "metadata": {
    "collapsed": false
   },
   "outputs": [
    {
     "name": "stdout",
     "output_type": "stream",
     "text": [
      "Number of columns: 29\n"
     ]
    }
   ],
   "source": [
    "#Store original column names in list\n",
    "colnames = list(df.columns)\n",
    "print \"Number of columns: %i\" %(len(colnames))"
   ]
  },
  {
   "cell_type": "code",
   "execution_count": 118,
   "metadata": {
    "collapsed": false
   },
   "outputs": [
    {
     "name": "stdout",
     "output_type": "stream",
     "text": [
      "['Unnamed: 0', 'Claim.Number', 'Claim.Line.Number', 'Member.ID', 'Provider.ID', 'Line.Of.Business.ID', 'Revenue.Code', 'Service.Code', 'Place.Of.Service.Code', 'Procedure.Code', 'Diagnosis.Code', 'Claim.Charge.Amount', 'Denial.Reason.Code', 'Price.Index', 'In.Out.Of.Network', 'Reference.Index', 'Pricing.Index', 'Capitation.Index', 'Subscriber.Payment.Amount', 'Provider.Payment.Amount', 'Group.Index', 'Subscriber.Index', 'Subgroup.Index', 'Claim.Type', 'Claim.Subscriber.Type', 'Claim.Pre.Prince.Index', 'Claim.Current.Status', 'Network.ID', 'Agreement.ID']\n"
     ]
    }
   ],
   "source": [
    "print colnames"
   ]
  },
  {
   "cell_type": "code",
   "execution_count": 413,
   "metadata": {
    "collapsed": false
   },
   "outputs": [
    {
     "name": "stdout",
     "output_type": "stream",
     "text": [
      "(259, 2)\n"
     ]
    },
    {
     "data": {
      "text/html": [
       "<div>\n",
       "<table border=\"1\" class=\"dataframe\">\n",
       "  <thead>\n",
       "    <tr style=\"text-align: right;\">\n",
       "      <th></th>\n",
       "      <th>Denial.Reason.Code</th>\n",
       "      <th>Frequency</th>\n",
       "    </tr>\n",
       "  </thead>\n",
       "  <tbody>\n",
       "    <tr>\n",
       "      <th>0</th>\n",
       "      <td></td>\n",
       "      <td>326030</td>\n",
       "    </tr>\n",
       "    <tr>\n",
       "      <th>1</th>\n",
       "      <td>002</td>\n",
       "      <td>30</td>\n",
       "    </tr>\n",
       "    <tr>\n",
       "      <th>2</th>\n",
       "      <td>003</td>\n",
       "      <td>46</td>\n",
       "    </tr>\n",
       "    <tr>\n",
       "      <th>3</th>\n",
       "      <td>017</td>\n",
       "      <td>3</td>\n",
       "    </tr>\n",
       "    <tr>\n",
       "      <th>4</th>\n",
       "      <td>018</td>\n",
       "      <td>1</td>\n",
       "    </tr>\n",
       "    <tr>\n",
       "      <th>5</th>\n",
       "      <td>019</td>\n",
       "      <td>242</td>\n",
       "    </tr>\n",
       "    <tr>\n",
       "      <th>6</th>\n",
       "      <td>060</td>\n",
       "      <td>1</td>\n",
       "    </tr>\n",
       "    <tr>\n",
       "      <th>7</th>\n",
       "      <td>073</td>\n",
       "      <td>33</td>\n",
       "    </tr>\n",
       "    <tr>\n",
       "      <th>8</th>\n",
       "      <td>104</td>\n",
       "      <td>44</td>\n",
       "    </tr>\n",
       "    <tr>\n",
       "      <th>9</th>\n",
       "      <td>319</td>\n",
       "      <td>16</td>\n",
       "    </tr>\n",
       "  </tbody>\n",
       "</table>\n",
       "</div>"
      ],
      "text/plain": [
       "  Denial.Reason.Code  Frequency\n",
       "0                        326030\n",
       "1                002         30\n",
       "2                003         46\n",
       "3                017          3\n",
       "4                018          1\n",
       "5                019        242\n",
       "6                060          1\n",
       "7                073         33\n",
       "8                104         44\n",
       "9                319         16"
      ]
     },
     "execution_count": 413,
     "metadata": {},
     "output_type": "execute_result"
    }
   ],
   "source": [
    "df_denialReasonCodes = pd.DataFrame(df.groupby('Denial.Reason.Code').apply(\n",
    "    lambda x: np.size(x['Denial.Reason.Code']))).reset_index()\n",
    "df_denialReasonCodes.columns = ['Denial.Reason.Code','Frequency']\n",
    "print df_denialReasonCodes.shape\n",
    "df_denialReasonCodes.head(10)"
   ]
  },
  {
   "cell_type": "code",
   "execution_count": 119,
   "metadata": {
    "collapsed": true
   },
   "outputs": [],
   "source": [
    "#Give the claim a label according to the denial reason code \n",
    "df['target'] = df.apply(lambda x: \n",
    "    tag_target(x['Denial.Reason.Code']), axis=1)"
   ]
  },
  {
   "cell_type": "code",
   "execution_count": 120,
   "metadata": {
    "collapsed": false
   },
   "outputs": [
    {
     "name": "stdout",
     "output_type": "stream",
     "text": [
      "Frequency of target label among claim records\n"
     ]
    },
    {
     "data": {
      "text/plain": [
       "target\n",
       "0    326030\n",
       "1      1971\n",
       "2    144558\n",
       "dtype: int64"
      ]
     },
     "execution_count": 120,
     "metadata": {},
     "output_type": "execute_result"
    }
   ],
   "source": [
    "print \"Frequency of target label among claim records\"\n",
    "df.groupby('target').apply(lambda x: np.size(x.target))"
   ]
  },
  {
   "cell_type": "code",
   "execution_count": 217,
   "metadata": {
    "collapsed": true
   },
   "outputs": [],
   "source": [
    "def flag_missing(value):\n",
    "    if type(value) == str:\n",
    "        if value.strip() == '':\n",
    "            return 'Missing'\n",
    "        else:\n",
    "            return 'Not Missing'\n",
    "    else:\n",
    "        if str(value) == 'nan':\n",
    "            return 'Missing'\n",
    "        else:\n",
    "            return 'Not Missing'"
   ]
  },
  {
   "cell_type": "code",
   "execution_count": 414,
   "metadata": {
    "collapsed": false
   },
   "outputs": [
    {
     "name": "stdout",
     "output_type": "stream",
     "text": [
      "  Claim.Number   Count  Pct_missing\n",
      "0      Missing  174023           36\n",
      "1  Not Missing  298536           63\n",
      "------------\n",
      "\n",
      "  Claim.Line.Number   Count  Pct_missing\n",
      "0       Not Missing  472559          100\n",
      "------------\n",
      "\n",
      "     Member.ID   Count  Pct_missing\n",
      "0  Not Missing  472559          100\n",
      "------------\n",
      "\n",
      "   Provider.ID   Count  Pct_missing\n",
      "0  Not Missing  472559          100\n",
      "------------\n",
      "\n",
      "  Line.Of.Business.ID   Count  Pct_missing\n",
      "0             Missing  207509           43\n",
      "1         Not Missing  265050           56\n",
      "------------\n",
      "\n",
      "  Revenue.Code   Count  Pct_missing\n",
      "0      Missing     356            0\n",
      "1  Not Missing  472203           99\n",
      "------------\n",
      "\n",
      "  Service.Code   Count  Pct_missing\n",
      "0      Missing     546            0\n",
      "1  Not Missing  472013           99\n",
      "------------\n",
      "\n",
      "  Place.Of.Service.Code   Count  Pct_missing\n",
      "0               Missing  472156           99\n",
      "1           Not Missing     403            0\n",
      "------------\n",
      "\n",
      "  Procedure.Code   Count  Pct_missing\n",
      "0        Missing  175631           37\n",
      "1    Not Missing  296928           62\n",
      "------------\n",
      "\n",
      "  Diagnosis.Code   Count  Pct_missing\n",
      "0    Not Missing  472559          100\n",
      "------------\n",
      "\n",
      "  Claim.Charge.Amount   Count  Pct_missing\n",
      "0         Not Missing  472559          100\n",
      "------------\n",
      "\n",
      "   Price.Index   Count  Pct_missing\n",
      "0      Missing  224759           47\n",
      "1  Not Missing  247800           52\n",
      "------------\n",
      "\n",
      "  In.Out.Of.Network   Count  Pct_missing\n",
      "0           Missing  204922           43\n",
      "1       Not Missing  267637           56\n",
      "------------\n",
      "\n",
      "  Reference.Index   Count  Pct_missing\n",
      "0         Missing  202097           42\n",
      "1     Not Missing  270462           57\n",
      "------------\n",
      "\n",
      "  Pricing.Index   Count  Pct_missing\n",
      "0       Missing  202097           42\n",
      "1   Not Missing  270462           57\n",
      "------------\n",
      "\n",
      "  Capitation.Index   Count  Pct_missing\n",
      "0          Missing  314413           66\n",
      "1      Not Missing  158146           33\n",
      "------------\n",
      "\n",
      "  Subscriber.Payment.Amount   Count  Pct_missing\n",
      "0               Not Missing  472559          100\n",
      "------------\n",
      "\n",
      "  Provider.Payment.Amount   Count  Pct_missing\n",
      "0             Not Missing  472559          100\n",
      "------------\n",
      "\n",
      "   Group.Index   Count  Pct_missing\n",
      "0  Not Missing  472559          100\n",
      "------------\n",
      "\n",
      "  Subscriber.Index   Count  Pct_missing\n",
      "0      Not Missing  472559          100\n",
      "------------\n",
      "\n",
      "  Subgroup.Index   Count  Pct_missing\n",
      "0    Not Missing  472559          100\n",
      "------------\n",
      "\n",
      "    Claim.Type   Count  Pct_missing\n",
      "0  Not Missing  472559          100\n",
      "------------\n",
      "\n",
      "  Claim.Subscriber.Type   Count  Pct_missing\n",
      "0           Not Missing  472559          100\n",
      "------------\n",
      "\n",
      "  Claim.Pre.Prince.Index   Count  Pct_missing\n",
      "0                Missing  383523           81\n",
      "1            Not Missing   89036           18\n",
      "------------\n",
      "\n",
      "  Claim.Current.Status   Count  Pct_missing\n",
      "0          Not Missing  472559          100\n",
      "------------\n",
      "\n",
      "    Network.ID   Count  Pct_missing\n",
      "0      Missing  206585           43\n",
      "1  Not Missing  265974           56\n",
      "------------\n",
      "\n",
      "  Agreement.ID   Count  Pct_missing\n",
      "0      Missing  204256           43\n",
      "1  Not Missing  268303           56\n",
      "------------\n",
      "\n"
     ]
    }
   ],
   "source": [
    "#Count of missing values among features\n",
    "features = [nm for nm in colnames if nm not in ['Unnamed: 0','Denial.Reason.Code']]\n",
    "for feature in features:\n",
    "    df['missing'] = df.apply(lambda x: flag_missing(x[feature]), axis=1)\n",
    "    missing = pd.DataFrame(df.groupby('missing').apply(lambda x: np.size(x.missing))).reset_index()\n",
    "    missing.columns = [feature,'Count']\n",
    "    missing['Pct_missing'] = missing.apply(lambda x: int(100*x.Count/float(472559)), axis=1)\n",
    "    print missing\n",
    "    print '------------'\n",
    "    print"
   ]
  },
  {
   "cell_type": "code",
   "execution_count": 221,
   "metadata": {
    "collapsed": false
   },
   "outputs": [],
   "source": [
    "exclude_features = ['Claim.Number','Member.ID','Line.Of.Business.ID','Place.Of.Service.Code',\n",
    "                   'Procedure.Code','Price.Index','Reference.Index',\n",
    "                   'Pricing.Index','Capitation.Index','Claim.Pre.Prince.Index',\n",
    "                   'Network.ID','Agreement.ID']\n",
    "impute_features = ['Revenue.Code','Service.Code','In.Out.Of.Network']\n",
    "keep_features = ['Claim.Line.Number','Provider.ID','Diagnosis.Code','Claim.Charge.Amount',\n",
    "                'Subscriber.Payment.Amount','Provider.Payment.Amount','Group.Index',\n",
    "                'Subscriber.Index','Claim.Type','Claim.Subscriber.Type','Claim.Current.Status']"
   ]
  },
  {
   "cell_type": "code",
   "execution_count": 223,
   "metadata": {
    "collapsed": false
   },
   "outputs": [
    {
     "data": {
      "text/plain": [
       "['Provider.ID',\n",
       " 'Diagnosis.Code',\n",
       " 'Claim.Type',\n",
       " 'Claim.Subscriber.Type',\n",
       " 'Revenue.Code',\n",
       " 'Service.Code',\n",
       " 'In.Out.Of.Network']"
      ]
     },
     "execution_count": 223,
     "metadata": {},
     "output_type": "execute_result"
    }
   ],
   "source": [
    "#List String Keep Features\n",
    "obj_features = pd.DataFrame(df[keep_features+impute_features].dtypes).reset_index()\n",
    "obj_features.columns = ['features','dtype']\n",
    "obj_features = obj_features[obj_features['dtype']=='object']\n",
    "obj_features = list(obj_features.features)\n",
    "obj_features"
   ]
  },
  {
   "cell_type": "code",
   "execution_count": 224,
   "metadata": {
    "collapsed": false
   },
   "outputs": [
    {
     "data": {
      "text/html": [
       "<div>\n",
       "<table border=\"1\" class=\"dataframe\">\n",
       "  <thead>\n",
       "    <tr style=\"text-align: right;\">\n",
       "      <th></th>\n",
       "      <th>Provider.ID</th>\n",
       "      <th>Diagnosis.Code</th>\n",
       "      <th>Claim.Type</th>\n",
       "      <th>Claim.Subscriber.Type</th>\n",
       "      <th>Revenue.Code</th>\n",
       "      <th>Service.Code</th>\n",
       "      <th>In.Out.Of.Network</th>\n",
       "    </tr>\n",
       "  </thead>\n",
       "  <tbody>\n",
       "    <tr>\n",
       "      <th>0</th>\n",
       "      <td>FA0001411002</td>\n",
       "      <td>V5789</td>\n",
       "      <td>M</td>\n",
       "      <td>H</td>\n",
       "      <td>0128</td>\n",
       "      <td>RR8I</td>\n",
       "      <td>I</td>\n",
       "    </tr>\n",
       "    <tr>\n",
       "      <th>1</th>\n",
       "      <td>FA0001411002</td>\n",
       "      <td>V5789</td>\n",
       "      <td>M</td>\n",
       "      <td>H</td>\n",
       "      <td>0024</td>\n",
       "      <td>AL7I</td>\n",
       "      <td>I</td>\n",
       "    </tr>\n",
       "    <tr>\n",
       "      <th>2</th>\n",
       "      <td>FA0001411002</td>\n",
       "      <td>V5789</td>\n",
       "      <td>M</td>\n",
       "      <td>H</td>\n",
       "      <td>0128</td>\n",
       "      <td>RR8I</td>\n",
       "      <td>I</td>\n",
       "    </tr>\n",
       "    <tr>\n",
       "      <th>3</th>\n",
       "      <td>FA0001411002</td>\n",
       "      <td>V5789</td>\n",
       "      <td>M</td>\n",
       "      <td>H</td>\n",
       "      <td>0250</td>\n",
       "      <td>AL7I</td>\n",
       "      <td>I</td>\n",
       "    </tr>\n",
       "    <tr>\n",
       "      <th>4</th>\n",
       "      <td>FA0001411002</td>\n",
       "      <td>V5789</td>\n",
       "      <td>M</td>\n",
       "      <td>H</td>\n",
       "      <td>0258</td>\n",
       "      <td>AL7I</td>\n",
       "      <td>I</td>\n",
       "    </tr>\n",
       "    <tr>\n",
       "      <th>5</th>\n",
       "      <td>FA0001411002</td>\n",
       "      <td>V5789</td>\n",
       "      <td>M</td>\n",
       "      <td>H</td>\n",
       "      <td>0259</td>\n",
       "      <td>AL7I</td>\n",
       "      <td>I</td>\n",
       "    </tr>\n",
       "    <tr>\n",
       "      <th>6</th>\n",
       "      <td>FA0001411002</td>\n",
       "      <td>V5789</td>\n",
       "      <td>M</td>\n",
       "      <td>H</td>\n",
       "      <td>0271</td>\n",
       "      <td>AL7I</td>\n",
       "      <td>I</td>\n",
       "    </tr>\n",
       "    <tr>\n",
       "      <th>7</th>\n",
       "      <td>FA0001411002</td>\n",
       "      <td>V5789</td>\n",
       "      <td>M</td>\n",
       "      <td>H</td>\n",
       "      <td>0300</td>\n",
       "      <td>AL7I</td>\n",
       "      <td>I</td>\n",
       "    </tr>\n",
       "    <tr>\n",
       "      <th>8</th>\n",
       "      <td>FA0001411002</td>\n",
       "      <td>V5789</td>\n",
       "      <td>M</td>\n",
       "      <td>H</td>\n",
       "      <td>0301</td>\n",
       "      <td>AL7I</td>\n",
       "      <td>I</td>\n",
       "    </tr>\n",
       "    <tr>\n",
       "      <th>9</th>\n",
       "      <td>FA0001411002</td>\n",
       "      <td>V5789</td>\n",
       "      <td>M</td>\n",
       "      <td>H</td>\n",
       "      <td>0305</td>\n",
       "      <td>AL7I</td>\n",
       "      <td>I</td>\n",
       "    </tr>\n",
       "  </tbody>\n",
       "</table>\n",
       "</div>"
      ],
      "text/plain": [
       "    Provider.ID Diagnosis.Code Claim.Type Claim.Subscriber.Type Revenue.Code  \\\n",
       "0  FA0001411002          V5789          M                     H         0128   \n",
       "1  FA0001411002          V5789          M                     H         0024   \n",
       "2  FA0001411002          V5789          M                     H         0128   \n",
       "3  FA0001411002          V5789          M                     H         0250   \n",
       "4  FA0001411002          V5789          M                     H         0258   \n",
       "5  FA0001411002          V5789          M                     H         0259   \n",
       "6  FA0001411002          V5789          M                     H         0271   \n",
       "7  FA0001411002          V5789          M                     H         0300   \n",
       "8  FA0001411002          V5789          M                     H         0301   \n",
       "9  FA0001411002          V5789          M                     H         0305   \n",
       "\n",
       "  Service.Code In.Out.Of.Network  \n",
       "0         RR8I                 I  \n",
       "1         AL7I                 I  \n",
       "2         RR8I                 I  \n",
       "3         AL7I                 I  \n",
       "4         AL7I                 I  \n",
       "5         AL7I                 I  \n",
       "6         AL7I                 I  \n",
       "7         AL7I                 I  \n",
       "8         AL7I                 I  \n",
       "9         AL7I                 I  "
      ]
     },
     "execution_count": 224,
     "metadata": {},
     "output_type": "execute_result"
    }
   ],
   "source": [
    "df[obj_features].head(10)"
   ]
  },
  {
   "cell_type": "markdown",
   "metadata": {},
   "source": [
    "# Model Building \n",
    "Gradient Boosting Classifier (GBC)"
   ]
  },
  {
   "cell_type": "code",
   "execution_count": 226,
   "metadata": {
    "collapsed": true
   },
   "outputs": [],
   "source": [
    "#Use marker values for missing values\n",
    "def mark_missing(value):\n",
    "    if value.strip() == '':\n",
    "        return 'UNKNOWN'\n",
    "    else: return value.strip()"
   ]
  },
  {
   "cell_type": "code",
   "execution_count": 228,
   "metadata": {
    "collapsed": false
   },
   "outputs": [],
   "source": [
    "for feature in impute_features:\n",
    "    df['imp_'+feature] = df.apply(lambda x: mark_missing(x[feature]), axis=1)"
   ]
  },
  {
   "cell_type": "code",
   "execution_count": 229,
   "metadata": {
    "collapsed": true
   },
   "outputs": [],
   "source": [
    "keep = keep_features + ['imp_'+feature for feature in impute_features]"
   ]
  },
  {
   "cell_type": "code",
   "execution_count": 230,
   "metadata": {
    "collapsed": false
   },
   "outputs": [
    {
     "data": {
      "text/html": [
       "<div>\n",
       "<table border=\"1\" class=\"dataframe\">\n",
       "  <thead>\n",
       "    <tr style=\"text-align: right;\">\n",
       "      <th></th>\n",
       "      <th>Claim.Line.Number</th>\n",
       "      <th>Provider.ID</th>\n",
       "      <th>Diagnosis.Code</th>\n",
       "      <th>Claim.Charge.Amount</th>\n",
       "      <th>Subscriber.Payment.Amount</th>\n",
       "      <th>Provider.Payment.Amount</th>\n",
       "      <th>Group.Index</th>\n",
       "      <th>Subscriber.Index</th>\n",
       "      <th>Claim.Type</th>\n",
       "      <th>Claim.Subscriber.Type</th>\n",
       "      <th>Claim.Current.Status</th>\n",
       "      <th>imp_Revenue.Code</th>\n",
       "      <th>imp_Service.Code</th>\n",
       "      <th>imp_In.Out.Of.Network</th>\n",
       "    </tr>\n",
       "  </thead>\n",
       "  <tbody>\n",
       "    <tr>\n",
       "      <th>0</th>\n",
       "      <td>1</td>\n",
       "      <td>FA0001411002</td>\n",
       "      <td>V5789</td>\n",
       "      <td>19356.960000</td>\n",
       "      <td>0</td>\n",
       "      <td>15036.210000</td>\n",
       "      <td>110</td>\n",
       "      <td>7763000</td>\n",
       "      <td>M</td>\n",
       "      <td>H</td>\n",
       "      <td>2</td>\n",
       "      <td>0128</td>\n",
       "      <td>RR8I</td>\n",
       "      <td>I</td>\n",
       "    </tr>\n",
       "    <tr>\n",
       "      <th>1</th>\n",
       "      <td>1</td>\n",
       "      <td>FA0001411002</td>\n",
       "      <td>V5789</td>\n",
       "      <td>0.000000</td>\n",
       "      <td>0</td>\n",
       "      <td>0.000000</td>\n",
       "      <td>110</td>\n",
       "      <td>20421600</td>\n",
       "      <td>M</td>\n",
       "      <td>H</td>\n",
       "      <td>91</td>\n",
       "      <td>0024</td>\n",
       "      <td>AL7I</td>\n",
       "      <td>I</td>\n",
       "    </tr>\n",
       "    <tr>\n",
       "      <th>2</th>\n",
       "      <td>2</td>\n",
       "      <td>FA0001411002</td>\n",
       "      <td>V5789</td>\n",
       "      <td>27099.744000</td>\n",
       "      <td>0</td>\n",
       "      <td>27525.263805</td>\n",
       "      <td>110</td>\n",
       "      <td>20421600</td>\n",
       "      <td>M</td>\n",
       "      <td>H</td>\n",
       "      <td>91</td>\n",
       "      <td>0128</td>\n",
       "      <td>RR8I</td>\n",
       "      <td>I</td>\n",
       "    </tr>\n",
       "    <tr>\n",
       "      <th>3</th>\n",
       "      <td>3</td>\n",
       "      <td>FA0001411002</td>\n",
       "      <td>V5789</td>\n",
       "      <td>2262.097800</td>\n",
       "      <td>0</td>\n",
       "      <td>0.000000</td>\n",
       "      <td>110</td>\n",
       "      <td>20421600</td>\n",
       "      <td>M</td>\n",
       "      <td>H</td>\n",
       "      <td>91</td>\n",
       "      <td>0250</td>\n",
       "      <td>AL7I</td>\n",
       "      <td>I</td>\n",
       "    </tr>\n",
       "    <tr>\n",
       "      <th>4</th>\n",
       "      <td>4</td>\n",
       "      <td>FA0001411002</td>\n",
       "      <td>V5789</td>\n",
       "      <td>284.712735</td>\n",
       "      <td>0</td>\n",
       "      <td>0.000000</td>\n",
       "      <td>110</td>\n",
       "      <td>20421600</td>\n",
       "      <td>M</td>\n",
       "      <td>H</td>\n",
       "      <td>91</td>\n",
       "      <td>0258</td>\n",
       "      <td>AL7I</td>\n",
       "      <td>I</td>\n",
       "    </tr>\n",
       "    <tr>\n",
       "      <th>5</th>\n",
       "      <td>5</td>\n",
       "      <td>FA0001411002</td>\n",
       "      <td>V5789</td>\n",
       "      <td>1081.397310</td>\n",
       "      <td>0</td>\n",
       "      <td>0.000000</td>\n",
       "      <td>110</td>\n",
       "      <td>20421600</td>\n",
       "      <td>M</td>\n",
       "      <td>H</td>\n",
       "      <td>91</td>\n",
       "      <td>0259</td>\n",
       "      <td>AL7I</td>\n",
       "      <td>I</td>\n",
       "    </tr>\n",
       "    <tr>\n",
       "      <th>6</th>\n",
       "      <td>6</td>\n",
       "      <td>FA0001411002</td>\n",
       "      <td>V5789</td>\n",
       "      <td>38.146050</td>\n",
       "      <td>0</td>\n",
       "      <td>0.000000</td>\n",
       "      <td>110</td>\n",
       "      <td>20421600</td>\n",
       "      <td>M</td>\n",
       "      <td>H</td>\n",
       "      <td>91</td>\n",
       "      <td>0271</td>\n",
       "      <td>AL7I</td>\n",
       "      <td>I</td>\n",
       "    </tr>\n",
       "    <tr>\n",
       "      <th>7</th>\n",
       "      <td>7</td>\n",
       "      <td>FA0001411002</td>\n",
       "      <td>V5789</td>\n",
       "      <td>148.140000</td>\n",
       "      <td>0</td>\n",
       "      <td>0.000000</td>\n",
       "      <td>110</td>\n",
       "      <td>20421600</td>\n",
       "      <td>M</td>\n",
       "      <td>H</td>\n",
       "      <td>91</td>\n",
       "      <td>0300</td>\n",
       "      <td>AL7I</td>\n",
       "      <td>I</td>\n",
       "    </tr>\n",
       "    <tr>\n",
       "      <th>8</th>\n",
       "      <td>8</td>\n",
       "      <td>FA0001411002</td>\n",
       "      <td>V5789</td>\n",
       "      <td>564.166500</td>\n",
       "      <td>0</td>\n",
       "      <td>0.000000</td>\n",
       "      <td>110</td>\n",
       "      <td>20421600</td>\n",
       "      <td>M</td>\n",
       "      <td>H</td>\n",
       "      <td>91</td>\n",
       "      <td>0301</td>\n",
       "      <td>AL7I</td>\n",
       "      <td>I</td>\n",
       "    </tr>\n",
       "    <tr>\n",
       "      <th>9</th>\n",
       "      <td>9</td>\n",
       "      <td>FA0001411002</td>\n",
       "      <td>V5789</td>\n",
       "      <td>1180.182000</td>\n",
       "      <td>0</td>\n",
       "      <td>0.000000</td>\n",
       "      <td>110</td>\n",
       "      <td>20421600</td>\n",
       "      <td>M</td>\n",
       "      <td>H</td>\n",
       "      <td>91</td>\n",
       "      <td>0305</td>\n",
       "      <td>AL7I</td>\n",
       "      <td>I</td>\n",
       "    </tr>\n",
       "  </tbody>\n",
       "</table>\n",
       "</div>"
      ],
      "text/plain": [
       "   Claim.Line.Number   Provider.ID Diagnosis.Code  Claim.Charge.Amount  \\\n",
       "0                  1  FA0001411002          V5789         19356.960000   \n",
       "1                  1  FA0001411002          V5789             0.000000   \n",
       "2                  2  FA0001411002          V5789         27099.744000   \n",
       "3                  3  FA0001411002          V5789          2262.097800   \n",
       "4                  4  FA0001411002          V5789           284.712735   \n",
       "5                  5  FA0001411002          V5789          1081.397310   \n",
       "6                  6  FA0001411002          V5789            38.146050   \n",
       "7                  7  FA0001411002          V5789           148.140000   \n",
       "8                  8  FA0001411002          V5789           564.166500   \n",
       "9                  9  FA0001411002          V5789          1180.182000   \n",
       "\n",
       "   Subscriber.Payment.Amount  Provider.Payment.Amount  Group.Index  \\\n",
       "0                          0             15036.210000          110   \n",
       "1                          0                 0.000000          110   \n",
       "2                          0             27525.263805          110   \n",
       "3                          0                 0.000000          110   \n",
       "4                          0                 0.000000          110   \n",
       "5                          0                 0.000000          110   \n",
       "6                          0                 0.000000          110   \n",
       "7                          0                 0.000000          110   \n",
       "8                          0                 0.000000          110   \n",
       "9                          0                 0.000000          110   \n",
       "\n",
       "   Subscriber.Index Claim.Type Claim.Subscriber.Type  Claim.Current.Status  \\\n",
       "0           7763000          M                     H                     2   \n",
       "1          20421600          M                     H                    91   \n",
       "2          20421600          M                     H                    91   \n",
       "3          20421600          M                     H                    91   \n",
       "4          20421600          M                     H                    91   \n",
       "5          20421600          M                     H                    91   \n",
       "6          20421600          M                     H                    91   \n",
       "7          20421600          M                     H                    91   \n",
       "8          20421600          M                     H                    91   \n",
       "9          20421600          M                     H                    91   \n",
       "\n",
       "  imp_Revenue.Code imp_Service.Code imp_In.Out.Of.Network  \n",
       "0             0128             RR8I                     I  \n",
       "1             0024             AL7I                     I  \n",
       "2             0128             RR8I                     I  \n",
       "3             0250             AL7I                     I  \n",
       "4             0258             AL7I                     I  \n",
       "5             0259             AL7I                     I  \n",
       "6             0271             AL7I                     I  \n",
       "7             0300             AL7I                     I  \n",
       "8             0301             AL7I                     I  \n",
       "9             0305             AL7I                     I  "
      ]
     },
     "execution_count": 230,
     "metadata": {},
     "output_type": "execute_result"
    }
   ],
   "source": [
    "df[keep].head(10)"
   ]
  },
  {
   "cell_type": "code",
   "execution_count": 231,
   "metadata": {
    "collapsed": false
   },
   "outputs": [],
   "source": [
    "#Label encode string features\n",
    "obj_features = pd.DataFrame(df[keep].dtypes).reset_index()\n",
    "obj_features.columns = ['features','dtype']\n",
    "obj_features = obj_features[obj_features['dtype']=='object']\n",
    "obj_features = list(obj_features.features)\n",
    "\n",
    "label_encoder = preprocessing.LabelEncoder()\n",
    "X_df = df[keep].copy()\n",
    "for obj_feature in obj_features:\n",
    "    X_df[obj_feature] = label_encoder.fit_transform(X_df[obj_feature])"
   ]
  },
  {
   "cell_type": "code",
   "execution_count": 236,
   "metadata": {
    "collapsed": false
   },
   "outputs": [
    {
     "name": "stdout",
     "output_type": "stream",
     "text": [
      "(472559, 14)\n",
      "(472559,)\n"
     ]
    }
   ],
   "source": [
    "y = df['target'].as_matrix().astype(np.float)\n",
    "X = X_df.as_matrix().astype(np.float)\n",
    "print X.shape\n",
    "print y.shape"
   ]
  },
  {
   "cell_type": "code",
   "execution_count": 237,
   "metadata": {
    "collapsed": false
   },
   "outputs": [
    {
     "data": {
      "text/plain": [
       "array([[-0.79518217,  0.64945021,  1.47389088, ..., -1.78760256,\n",
       "         1.16161327, -0.88169005],\n",
       "       [-0.79518217,  0.64945021,  1.47389088, ..., -2.20407673,\n",
       "        -1.39141404, -0.88169005],\n",
       "       [-0.71381231,  0.64945021,  1.47389088, ..., -1.78760256,\n",
       "         1.16161327, -0.88169005],\n",
       "       ..., \n",
       "       [ 0.34399588,  0.39045638,  0.6876856 , ...,  1.1797759 ,\n",
       "         0.27156705, -0.88169005],\n",
       "       [ 0.42536574,  0.39045638,  0.6876856 , ...,  1.1797759 ,\n",
       "         0.27156705, -0.88169005],\n",
       "       [ 0.5067356 ,  0.39045638,  0.6876856 , ...,  1.1797759 ,\n",
       "         0.27156705, -0.88169005]])"
      ]
     },
     "execution_count": 237,
     "metadata": {},
     "output_type": "execute_result"
    }
   ],
   "source": [
    "#Scale features\n",
    "scaler = preprocessing.StandardScaler()\n",
    "X = scaler.fit_transform(X)\n",
    "X"
   ]
  },
  {
   "cell_type": "code",
   "execution_count": 238,
   "metadata": {
    "collapsed": false
   },
   "outputs": [
    {
     "name": "stdout",
     "output_type": "stream",
     "text": [
      "Train: [293770 344846  78194 ..., 446701 145929  90430] Test: [264364 446500 184862 ...,  56902 174282  84349]\n"
     ]
    }
   ],
   "source": [
    "#Step 1: Create Training dataset with 60% of data\n",
    "sss = cross_validation.StratifiedShuffleSplit(y,n_iter=1, test_size=0.4, random_state=0)\n",
    "for train_i, test_i in sss:\n",
    "    print \"Train:\", train_i, \"Test:\", test_i\n",
    "    X_train,X_test = X[train_i], X[test_i]\n",
    "    y_train,y_test = y[train_i],y[test_i]"
   ]
  },
  {
   "cell_type": "code",
   "execution_count": 242,
   "metadata": {
    "collapsed": false
   },
   "outputs": [
    {
     "name": "stdout",
     "output_type": "stream",
     "text": [
      "Train: [12351  4553  8216 ...,  4315 16063 15323] Test: [ 4436 18955 10579 ..., 16941   637 19090]\n",
      "\n",
      "DATASETS:\n",
      "Training : X_train (283536,283536) with labels y_train (283536)\n",
      "\n",
      "Testing  : X_test (11813,11813) with labels y_test  (11813)\n",
      "\n",
      "Cross-Val: X_cv   (11813,11813) with labels y_cv    (11813)\n"
     ]
    }
   ],
   "source": [
    "#Step 2: Further split Testing dataset into 20% of data for testing and 20% for cross-validation\n",
    "sss = cross_validation.StratifiedShuffleSplit(y_test,n_iter=1, test_size=0.5, random_state=1)\n",
    "for train_i, test_i in sss:\n",
    "    print \"Train:\", train_i, \"Test:\", test_i\n",
    "    X_test,X_cv = X_test[train_i], X_test[test_i]\n",
    "    y_test,y_cv = y_test[train_i],y_test[test_i]\n",
    "\n",
    "print \n",
    "print \"DATASETS:\"\n",
    "print \"Training : X_train (%i,%i) with labels y_train (%i)\" %(X_train.shape[0],X_train.shape[0],\n",
    "                                                             y_train.shape[0])\n",
    "print\n",
    "print \"Testing  : X_test (%i,%i) with labels y_test  (%i)\" %(X_test.shape[0],X_test.shape[0],\n",
    "                                                             y_test.shape[0])\n",
    "print\n",
    "print \"Cross-Val: X_cv   (%i,%i) with labels y_cv    (%i)\" %(X_cv.shape[0],X_cv.shape[0],\n",
    "                                                             y_cv.shape[0])"
   ]
  },
  {
   "cell_type": "code",
   "execution_count": 244,
   "metadata": {
    "collapsed": false
   },
   "outputs": [
    {
     "name": "stdout",
     "output_type": "stream",
     "text": [
      "Predict all 0: 0.69\n"
     ]
    }
   ],
   "source": [
    "#Find out accuracy score for predicting all target = 0\n",
    "print \"Predict all 0: {:.2f}\".format(metrics.accuracy_score(y,[0 for ii in y.tolist()]))"
   ]
  },
  {
   "cell_type": "code",
   "execution_count": 247,
   "metadata": {
    "collapsed": false
   },
   "outputs": [
    {
     "data": {
      "text/plain": [
       "0.87886227038008968"
      ]
     },
     "execution_count": 247,
     "metadata": {},
     "output_type": "execute_result"
    }
   ],
   "source": [
    "#Take head X_train, y_train for quick run to test model syntax and data quality\n",
    "head_X = X_train[:1000,:]\n",
    "head_y = y_train[:1000]\n",
    "n_est=300\n",
    "learn_rt=0.3\n",
    "max_d=5\n",
    "rand_st=0\n",
    "clf = GradientBoostingClassifier(n_estimators=n_est,\n",
    "                                learning_rate=learn_rt,\n",
    "                                max_depth=max_d,\n",
    "                                random_state=rand_st).fit(head_X,head_y)\n",
    "clf.score(X_test,y_test)"
   ]
  },
  {
   "cell_type": "code",
   "execution_count": 248,
   "metadata": {
    "collapsed": false
   },
   "outputs": [
    {
     "data": {
      "text/plain": [
       "0.94963176161855578"
      ]
     },
     "execution_count": 248,
     "metadata": {},
     "output_type": "execute_result"
    }
   ],
   "source": [
    "#Try model with complete training set\n",
    "n_est=300\n",
    "learn_rt=0.3\n",
    "max_d=5\n",
    "rand_st=0\n",
    "clf = GradientBoostingClassifier(n_estimators=n_est,\n",
    "                                learning_rate=learn_rt,\n",
    "                                max_depth=max_d,\n",
    "                                random_state=rand_st).fit(X_train,y_train)\n",
    "clf.score(X_test,y_test)"
   ]
  },
  {
   "cell_type": "code",
   "execution_count": 355,
   "metadata": {
    "collapsed": false
   },
   "outputs": [
    {
     "data": {
      "text/plain": [
       "2835.36"
      ]
     },
     "execution_count": 355,
     "metadata": {},
     "output_type": "execute_result"
    }
   ],
   "source": [
    "sample_n = len(y_train)\n",
    "n_pct_1 = int(sample_n*.01)\n",
    "n_pct_5 = int(sample_n*.05)\n",
    "n_pct_10 = int(sample_n*.10)"
   ]
  },
  {
   "cell_type": "code",
   "execution_count": 356,
   "metadata": {
    "collapsed": false
   },
   "outputs": [],
   "source": [
    "#Optimize model parameters with quick training set to see parameter trends with score\n",
    "sample_n = len(y_train)\n",
    "n_pct_1 = int(sample_n*.01)\n",
    "n_pct_5 = int(sample_n*.05)\n",
    "n_pct_10 = int(sample_n*.10)\n",
    "sample_n_s = [n_pct_1,n_pct_5,n_pct_10]\n",
    "\n",
    "n_est_s = [50,100,200,300,500]\n",
    "learn_rt_s = [0.1,0.2,0.3,0.4,0.5]\n",
    "max_d_s = [2,3,4,5,6]\n",
    "sample_clf_scores = []; sample_params = []\n",
    "for n in sample_n_s:\n",
    "    head_X = X_train[:n,:]\n",
    "    head_y = y_train[:n]\n",
    "    clf_scores = []; params = []\n",
    "    for n_est in n_est_s:\n",
    "        for learn_rt in learn_rt_s:\n",
    "            for max_d in max_d_s:\n",
    "                clf = GradientBoostingClassifier(n_estimators=n_est,\n",
    "                                learning_rate=learn_rt,\n",
    "                                max_depth=max_d,\n",
    "                                random_state=rand_st).fit(head_X,head_y)\n",
    "                clf_score = clf.score(X_test,y_test)\n",
    "                clf_scores.append(clf_score)\n",
    "                params.append((n_est,learn_rt,max_d))\n",
    "    sample_clf_scores.append(clf_scores)\n",
    "    sample_params.append(params)"
   ]
  },
  {
   "cell_type": "code",
   "execution_count": 360,
   "metadata": {
    "collapsed": false
   },
   "outputs": [],
   "source": [
    "colors = ['blue','red','green','pink','yellow']\n",
    "shapes = ['o','^','s','x','d']\n",
    "fills = ['full','full','none','none','none']\n",
    "def define_color_shape(learn_rt,max_d):\n",
    "    shape = [shapes[i] for i in range(len(shapes)) if learn_rt == learn_rt_s[i]][0]\n",
    "    fill = [fills[i] for i in range(len(fills)) if learn_rt == learn_rt_s[i]][0]\n",
    "    color = [colors[i] for i in range(len(colors)) if max_d == max_d_s[i]][0]\n",
    "    label = 'learning-rate='+str(learn_rt)+', max-depth='+str(max_d)\n",
    "    return (shape,fill,color,label)"
   ]
  },
  {
   "cell_type": "code",
   "execution_count": 361,
   "metadata": {
    "collapsed": false
   },
   "outputs": [],
   "source": [
    "def plot_scores(params,clf_scores,sample_n):\n",
    "    plt_symbols = [define_color_shape(params[i][1],params[i][2]) for i in range(len(params))]\n",
    "    fig = plt.figure()\n",
    "    ax = fig.add_subplot(111)\n",
    "    for i in range(len(plt_symbols)):\n",
    "        plt.scatter(params[i][0],clf_scores[i],\n",
    "            marker = plt_symbols[i][0],\n",
    "            color=plt_symbols[i][2],\n",
    "            label=plt_symbols[i][3]\n",
    "           )\n",
    "    plt.xlabel('Number of Estimators')\n",
    "    plt.ylabel('Score')\n",
    "    title = \"Sample Size = %i\" %(sample_n)\n",
    "    plt.title(title)\n",
    "    handles, labels = ax.get_legend_handles_labels()\n",
    "    uniq_handles = list(set(handles))\n",
    "    uniq_labels = list(set(labels))\n",
    "    ax.legend(uniq_handles, labels=uniq_labels, loc='upper right', \n",
    "          numpoints=1, ncol=1, fontsize=8, bbox_to_anchor=(1.6,1))\n",
    "    plt.show()"
   ]
  },
  {
   "cell_type": "code",
   "execution_count": 362,
   "metadata": {
    "collapsed": false
   },
   "outputs": [
    {
     "data": {
      "image/png": "[encoded data removed]",
      "text/plain": [
       "<matplotlib.figure.Figure at 0x12d451c10>"
      ]
     },
     "metadata": {},
     "output_type": "display_data"
    },
    {
     "data": {
      "image/png": "[encoded data removed]",
      "text/plain": [
       "<matplotlib.figure.Figure at 0x1df56d090>"
      ]
     },
     "metadata": {},
     "output_type": "display_data"
    },
    {
     "data": {
      "image/png": "[encoded data removed]",
      "text/plain": [
       "<matplotlib.figure.Figure at 0x123804710>"
      ]
     },
     "metadata": {},
     "output_type": "display_data"
    }
   ],
   "source": [
    "for i_n in range(len(sample_n_s)):\n",
    "    sample_n = sample_n_s[i_n]\n",
    "    params = sample_params[i_n]\n",
    "    clf_scores = sample_clf_scores[i_n]\n",
    "    plot_scores(params,clf_scores,sample_n)"
   ]
  },
  {
   "cell_type": "markdown",
   "metadata": {},
   "source": [
    "Best score results with increasing samples size: number of estimators = 250, learning rate = 0.5, max depth = 6"
   ]
  },
  {
   "cell_type": "code",
   "execution_count": 363,
   "metadata": {
    "collapsed": false
   },
   "outputs": [
    {
     "data": {
      "text/plain": [
       "0.95530347921781089"
      ]
     },
     "execution_count": 363,
     "metadata": {},
     "output_type": "execute_result"
    }
   ],
   "source": [
    "#Try model with complete training set and optimized parameters\n",
    "n_est=250\n",
    "learn_rt=0.5\n",
    "max_d=6\n",
    "rand_st=0\n",
    "clf = GradientBoostingClassifier(n_estimators=n_est,\n",
    "                                learning_rate=learn_rt,\n",
    "                                max_depth=max_d,\n",
    "                                random_state=rand_st).fit(X_train,y_train)\n",
    "clf.score(X_test,y_test)"
   ]
  },
  {
   "cell_type": "code",
   "execution_count": 367,
   "metadata": {
    "collapsed": false
   },
   "outputs": [
    {
     "name": "stdout",
     "output_type": "stream",
     "text": [
      "(295349, 14)\n",
      "(295349,)\n"
     ]
    }
   ],
   "source": [
    "#Train final model with X_train+X_test and test with X_cv\n",
    "X_fi = np.vstack((X_train,X_test))\n",
    "y_fi = np.hstack((y_train,y_test))\n",
    "print X_fi.shape\n",
    "print y_fi.shape"
   ]
  },
  {
   "cell_type": "code",
   "execution_count": 368,
   "metadata": {
    "collapsed": false
   },
   "outputs": [
    {
     "data": {
      "text/plain": [
       "0.95674257174299504"
      ]
     },
     "execution_count": 368,
     "metadata": {},
     "output_type": "execute_result"
    }
   ],
   "source": [
    "n_est=250\n",
    "learn_rt=0.5\n",
    "max_d=6\n",
    "rand_st=0\n",
    "clf = GradientBoostingClassifier(n_estimators=n_est,\n",
    "                                learning_rate=learn_rt,\n",
    "                                max_depth=max_d,\n",
    "                                random_state=rand_st).fit(X_fi,y_fi)\n",
    "clf.score(X_cv,y_cv)"
   ]
  },
  {
   "cell_type": "markdown",
   "metadata": {},
   "source": [
    "#Estimator score from cross-validation data = 0.9567"
   ]
  },
  {
   "cell_type": "markdown",
   "metadata": {},
   "source": [
    "#Model Evaluation"
   ]
  },
  {
   "cell_type": "code",
   "execution_count": 380,
   "metadata": {
    "collapsed": true
   },
   "outputs": [],
   "source": [
    "def plot_confusion_matrix(cm, target_names, title='Confusion matrix', \n",
    "                          cmap=plt.cm.Blues):\n",
    "    plt.imshow(cm, interpolation='nearest', cmap=cmap)\n",
    "    plt.title(title)\n",
    "    plt.colorbar()\n",
    "    tick_marks = np.arange(len(target_names))\n",
    "    plt.xticks(tick_marks, target_names, rotation=45)\n",
    "    plt.yticks(tick_marks, target_names)\n",
    "    plt.tight_layout()\n",
    "    plt.ylabel('True label')\n",
    "    plt.xlabel('Predicted label')"
   ]
  },
  {
   "cell_type": "code",
   "execution_count": 381,
   "metadata": {
    "collapsed": false
   },
   "outputs": [
    {
     "data": {
      "image/png": "[encoded data removed]",
      "text/plain": [
       "<matplotlib.figure.Figure at 0x12b353950>"
      ]
     },
     "metadata": {},
     "output_type": "display_data"
    }
   ],
   "source": [
    "#Confusion matrix using sklearn example\n",
    "cm = metrics.confusion_matrix(y_cv, clf.predict(X_cv))\n",
    "plt.figure()\n",
    "plot_confusion_matrix(cm,target_names = [0,1,2])\n",
    "plt.show()"
   ]
  },
  {
   "cell_type": "code",
   "execution_count": 393,
   "metadata": {
    "collapsed": true
   },
   "outputs": [],
   "source": [
    "def sns_plot_confusion_matrix(cm, target_names, title='Confusion matrix'):\n",
    "    plt.title(title)\n",
    "    sns.heatmap(cm, annot=True, fmt='')\n",
    "    sns.axlabel(xlabel='Predicted label', ylabel='True label')"
   ]
  },
  {
   "cell_type": "markdown",
   "metadata": {},
   "source": [
    "# Seaborn - Confusion Matrix"
   ]
  },
  {
   "cell_type": "code",
   "execution_count": 394,
   "metadata": {
    "collapsed": false
   },
   "outputs": [
    {
     "data": {
      "image/png": "[encoded data removed]",
      "text/plain": [
       "<matplotlib.figure.Figure at 0x1a87caf10>"
      ]
     },
     "metadata": {},
     "output_type": "display_data"
    }
   ],
   "source": [
    "sns_plot_confusion_matrix(cm, target_names = [0,1,2], \n",
    "                          title='Confusion matrix')"
   ]
  },
  {
   "cell_type": "code",
   "execution_count": 400,
   "metadata": {
    "collapsed": false
   },
   "outputs": [
    {
     "name": "stdout",
     "output_type": "stream",
     "text": [
      "                   precision    recall  f1-score   support\n",
      "\n",
      "0: Not yet denied       0.96      0.98      0.97      8151\n",
      "1: Target denied        0.73      0.55      0.63        49\n",
      "2: Other denied         0.96      0.90      0.93      3613\n",
      "\n",
      "      avg / total       0.96      0.96      0.96     11813\n",
      "\n"
     ]
    }
   ],
   "source": [
    "target_names = ['0: Not yet denied', \n",
    "                '1: Target denied ', \n",
    "                '2: Other denied  ']\n",
    "print metrics.classification_report(y_cv, clf.predict(X_cv), target_names=target_names)"
   ]
  },
  {
   "cell_type": "code",
   "execution_count": 412,
   "metadata": {
    "collapsed": false
   },
   "outputs": [
    {
     "name": "stdout",
     "output_type": "stream",
     "text": [
      "Specificity (True Negative Rate) of class, \"Target denied\": 71%\n"
     ]
    }
   ],
   "source": [
    "sp = 100*float(8+14)/float(8+9+14)\n",
    "print \"Specificity (True Negative Rate) of class, %sTarget denied%s: %.0f%%\" %('\"','\"',sp)"
   ]
  },
  {
   "cell_type": "markdown",
   "metadata": {},
   "source": [
    "Sensitivity (True Positive Rate) of class, \"Target denied\" (=Recall): 55%"
   ]
  },
  {
   "cell_type": "code",
   "execution_count": null,
   "metadata": {
    "collapsed": true
   },
   "outputs": [],
   "source": []
  }
 ],
 "metadata": {
  "celltoolbar": "Raw Cell Format",
  "kernelspec": {
   "display_name": "Python 2",
   "language": "python",
   "name": "python2"
  },
  "language_info": {
   "codemirror_mode": {
    "name": "ipython",
    "version": 2
   },
   "file_extension": ".py",
   "mimetype": "text/x-python",
   "name": "python",
   "nbconvert_exporter": "python",
   "pygments_lexer": "ipython2",
   "version": "2.7.10"
  }
 },
 "nbformat": 4,
 "nbformat_minor": 0
}
